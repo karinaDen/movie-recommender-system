{
 "cells": [
  {
   "cell_type": "markdown",
   "metadata": {},
   "source": [
    "## Matrix Factorization using Deep Learning"
   ]
  },
  {
   "cell_type": "code",
   "execution_count": 118,
   "metadata": {},
   "outputs": [],
   "source": [
    "import pandas as pd\n",
    "from sklearn.model_selection import train_test_split\n",
    "import sys\n",
    "sys.path.insert(0, '../models')\n",
    "from NNmodel import model_architecture, model_visualization\n",
    "from tensorflow.keras.optimizers.legacy import Adam\n",
    "from tensorflow.keras.callbacks import ModelCheckpoint\n",
    "import matplotlib.pyplot as plt"
   ]
  },
  {
   "cell_type": "code",
   "execution_count": 109,
   "metadata": {},
   "outputs": [],
   "source": [
    "ratings = pd.read_csv('../data/interim/data.csv')\n",
    "ratings.drop(['timestamp'], axis=1, inplace=True)"
   ]
  },
  {
   "cell_type": "code",
   "execution_count": 110,
   "metadata": {},
   "outputs": [],
   "source": [
    "X = ratings.iloc[:,:2]\n",
    "Y = ratings.iloc[:,2]\n",
    "\n",
    "x_train, x_test, y_train, y_test = train_test_split(X, Y, test_size = 0.2, random_state = 66)"
   ]
  },
  {
   "cell_type": "code",
   "execution_count": 111,
   "metadata": {},
   "outputs": [],
   "source": [
    "# The number of latent factors for the embedding\n",
    "n_latent_factors = 50\n",
    "\n",
    "# no of users and movies\n",
    "n_users, n_movies = len(ratings['user id'].unique())+1, len(ratings['movie id'].unique())+1"
   ]
  },
  {
   "cell_type": "code",
   "execution_count": 112,
   "metadata": {},
   "outputs": [
    {
     "name": "stdout",
     "output_type": "stream",
     "text": [
      "944 1683\n"
     ]
    }
   ],
   "source": [
    "print(n_users, n_movies)"
   ]
  },
  {
   "cell_type": "code",
   "execution_count": 113,
   "metadata": {},
   "outputs": [],
   "source": [
    "model = model_architecture(n_users, n_movies, n_latent_factors)"
   ]
  },
  {
   "cell_type": "code",
   "execution_count": 114,
   "metadata": {},
   "outputs": [
    {
     "data": {
      "image/svg+xml": [
       "<svg xmlns=\"http://www.w3.org/2000/svg\" xmlns:xlink=\"http://www.w3.org/1999/xlink\" width=\"894pt\" height=\"405pt\" viewBox=\"0.00 0.00 670.50 304.00\">\n",
       "<g id=\"graph0\" class=\"graph\" transform=\"scale(0.75 0.75) rotate(0) translate(4 300)\">\n",
       "<title>G</title>\n",
       "<polygon fill=\"white\" stroke=\"transparent\" points=\"-4,4 -4,-300 666.5,-300 666.5,4 -4,4\"/>\n",
       "<!-- 140177534804864 -->\n",
       "<g id=\"node1\" class=\"node\">\n",
       "<title>140177534804864</title>\n",
       "<polygon fill=\"none\" stroke=\"black\" points=\"30.5,-249.5 30.5,-295.5 287.5,-295.5 287.5,-249.5 30.5,-249.5\"/>\n",
       "<text text-anchor=\"middle\" x=\"78.5\" y=\"-280.3\" font-family=\"Times,serif\" font-size=\"14.00\">User_Input</text>\n",
       "<polyline fill=\"none\" stroke=\"black\" points=\"30.5,-272.5 126.5,-272.5 \"/>\n",
       "<text text-anchor=\"middle\" x=\"78.5\" y=\"-257.3\" font-family=\"Times,serif\" font-size=\"14.00\">InputLayer</text>\n",
       "<polyline fill=\"none\" stroke=\"black\" points=\"126.5,-249.5 126.5,-295.5 \"/>\n",
       "<text text-anchor=\"middle\" x=\"160.5\" y=\"-280.3\" font-family=\"Times,serif\" font-size=\"14.00\">input:</text>\n",
       "<polyline fill=\"none\" stroke=\"black\" points=\"126.5,-272.5 194.5,-272.5 \"/>\n",
       "<text text-anchor=\"middle\" x=\"160.5\" y=\"-257.3\" font-family=\"Times,serif\" font-size=\"14.00\">output:</text>\n",
       "<polyline fill=\"none\" stroke=\"black\" points=\"194.5,-249.5 194.5,-295.5 \"/>\n",
       "<text text-anchor=\"middle\" x=\"241\" y=\"-280.3\" font-family=\"Times,serif\" font-size=\"14.00\">[(None, 1)]</text>\n",
       "<polyline fill=\"none\" stroke=\"black\" points=\"194.5,-272.5 287.5,-272.5 \"/>\n",
       "<text text-anchor=\"middle\" x=\"241\" y=\"-257.3\" font-family=\"Times,serif\" font-size=\"14.00\">[(None, 1)]</text>\n",
       "</g>\n",
       "<!-- 140177534803328 -->\n",
       "<g id=\"node3\" class=\"node\">\n",
       "<title>140177534803328</title>\n",
       "<polygon fill=\"none\" stroke=\"black\" points=\"0,-166.5 0,-212.5 318,-212.5 318,-166.5 0,-166.5\"/>\n",
       "<text text-anchor=\"middle\" x=\"70\" y=\"-197.3\" font-family=\"Times,serif\" font-size=\"14.00\">User_Embedding</text>\n",
       "<polyline fill=\"none\" stroke=\"black\" points=\"0,-189.5 140,-189.5 \"/>\n",
       "<text text-anchor=\"middle\" x=\"70\" y=\"-174.3\" font-family=\"Times,serif\" font-size=\"14.00\">Embedding</text>\n",
       "<polyline fill=\"none\" stroke=\"black\" points=\"140,-166.5 140,-212.5 \"/>\n",
       "<text text-anchor=\"middle\" x=\"174\" y=\"-197.3\" font-family=\"Times,serif\" font-size=\"14.00\">input:</text>\n",
       "<polyline fill=\"none\" stroke=\"black\" points=\"140,-189.5 208,-189.5 \"/>\n",
       "<text text-anchor=\"middle\" x=\"174\" y=\"-174.3\" font-family=\"Times,serif\" font-size=\"14.00\">output:</text>\n",
       "<polyline fill=\"none\" stroke=\"black\" points=\"208,-166.5 208,-212.5 \"/>\n",
       "<text text-anchor=\"middle\" x=\"263\" y=\"-197.3\" font-family=\"Times,serif\" font-size=\"14.00\">(None, 1)</text>\n",
       "<polyline fill=\"none\" stroke=\"black\" points=\"208,-189.5 318,-189.5 \"/>\n",
       "<text text-anchor=\"middle\" x=\"263\" y=\"-174.3\" font-family=\"Times,serif\" font-size=\"14.00\">(None, 1, 50)</text>\n",
       "</g>\n",
       "<!-- 140177534804864&#45;&gt;140177534803328 -->\n",
       "<g id=\"edge1\" class=\"edge\">\n",
       "<title>140177534804864-&gt;140177534803328</title>\n",
       "<path fill=\"none\" stroke=\"black\" d=\"M159,-249.37C159,-241.15 159,-231.66 159,-222.73\"/>\n",
       "<polygon fill=\"black\" stroke=\"black\" points=\"162.5,-222.61 159,-212.61 155.5,-222.61 162.5,-222.61\"/>\n",
       "</g>\n",
       "<!-- 140179011624848 -->\n",
       "<g id=\"node2\" class=\"node\">\n",
       "<title>140179011624848</title>\n",
       "<polygon fill=\"none\" stroke=\"black\" points=\"366,-249.5 366,-295.5 632,-295.5 632,-249.5 366,-249.5\"/>\n",
       "<text text-anchor=\"middle\" x=\"418.5\" y=\"-280.3\" font-family=\"Times,serif\" font-size=\"14.00\">Movie_Input</text>\n",
       "<polyline fill=\"none\" stroke=\"black\" points=\"366,-272.5 471,-272.5 \"/>\n",
       "<text text-anchor=\"middle\" x=\"418.5\" y=\"-257.3\" font-family=\"Times,serif\" font-size=\"14.00\">InputLayer</text>\n",
       "<polyline fill=\"none\" stroke=\"black\" points=\"471,-249.5 471,-295.5 \"/>\n",
       "<text text-anchor=\"middle\" x=\"505\" y=\"-280.3\" font-family=\"Times,serif\" font-size=\"14.00\">input:</text>\n",
       "<polyline fill=\"none\" stroke=\"black\" points=\"471,-272.5 539,-272.5 \"/>\n",
       "<text text-anchor=\"middle\" x=\"505\" y=\"-257.3\" font-family=\"Times,serif\" font-size=\"14.00\">output:</text>\n",
       "<polyline fill=\"none\" stroke=\"black\" points=\"539,-249.5 539,-295.5 \"/>\n",
       "<text text-anchor=\"middle\" x=\"585.5\" y=\"-280.3\" font-family=\"Times,serif\" font-size=\"14.00\">[(None, 1)]</text>\n",
       "<polyline fill=\"none\" stroke=\"black\" points=\"539,-272.5 632,-272.5 \"/>\n",
       "<text text-anchor=\"middle\" x=\"585.5\" y=\"-257.3\" font-family=\"Times,serif\" font-size=\"14.00\">[(None, 1)]</text>\n",
       "</g>\n",
       "<!-- 140179011655552 -->\n",
       "<g id=\"node4\" class=\"node\">\n",
       "<title>140179011655552</title>\n",
       "<polygon fill=\"none\" stroke=\"black\" points=\"335.5,-166.5 335.5,-212.5 662.5,-212.5 662.5,-166.5 335.5,-166.5\"/>\n",
       "<text text-anchor=\"middle\" x=\"410\" y=\"-197.3\" font-family=\"Times,serif\" font-size=\"14.00\">Movie_Embedding</text>\n",
       "<polyline fill=\"none\" stroke=\"black\" points=\"335.5,-189.5 484.5,-189.5 \"/>\n",
       "<text text-anchor=\"middle\" x=\"410\" y=\"-174.3\" font-family=\"Times,serif\" font-size=\"14.00\">Embedding</text>\n",
       "<polyline fill=\"none\" stroke=\"black\" points=\"484.5,-166.5 484.5,-212.5 \"/>\n",
       "<text text-anchor=\"middle\" x=\"518.5\" y=\"-197.3\" font-family=\"Times,serif\" font-size=\"14.00\">input:</text>\n",
       "<polyline fill=\"none\" stroke=\"black\" points=\"484.5,-189.5 552.5,-189.5 \"/>\n",
       "<text text-anchor=\"middle\" x=\"518.5\" y=\"-174.3\" font-family=\"Times,serif\" font-size=\"14.00\">output:</text>\n",
       "<polyline fill=\"none\" stroke=\"black\" points=\"552.5,-166.5 552.5,-212.5 \"/>\n",
       "<text text-anchor=\"middle\" x=\"607.5\" y=\"-197.3\" font-family=\"Times,serif\" font-size=\"14.00\">(None, 1)</text>\n",
       "<polyline fill=\"none\" stroke=\"black\" points=\"552.5,-189.5 662.5,-189.5 \"/>\n",
       "<text text-anchor=\"middle\" x=\"607.5\" y=\"-174.3\" font-family=\"Times,serif\" font-size=\"14.00\">(None, 1, 50)</text>\n",
       "</g>\n",
       "<!-- 140179011624848&#45;&gt;140179011655552 -->\n",
       "<g id=\"edge2\" class=\"edge\">\n",
       "<title>140179011624848-&gt;140179011655552</title>\n",
       "<path fill=\"none\" stroke=\"black\" d=\"M499,-249.37C499,-241.15 499,-231.66 499,-222.73\"/>\n",
       "<polygon fill=\"black\" stroke=\"black\" points=\"502.5,-222.61 499,-212.61 495.5,-222.61 502.5,-222.61\"/>\n",
       "</g>\n",
       "<!-- 140178338776688 -->\n",
       "<g id=\"node5\" class=\"node\">\n",
       "<title>140178338776688</title>\n",
       "<polygon fill=\"none\" stroke=\"black\" points=\"35,-83.5 35,-129.5 317,-129.5 317,-83.5 35,-83.5\"/>\n",
       "<text text-anchor=\"middle\" x=\"87\" y=\"-114.3\" font-family=\"Times,serif\" font-size=\"14.00\">User_Vector</text>\n",
       "<polyline fill=\"none\" stroke=\"black\" points=\"35,-106.5 139,-106.5 \"/>\n",
       "<text text-anchor=\"middle\" x=\"87\" y=\"-91.3\" font-family=\"Times,serif\" font-size=\"14.00\">Flatten</text>\n",
       "<polyline fill=\"none\" stroke=\"black\" points=\"139,-83.5 139,-129.5 \"/>\n",
       "<text text-anchor=\"middle\" x=\"173\" y=\"-114.3\" font-family=\"Times,serif\" font-size=\"14.00\">input:</text>\n",
       "<polyline fill=\"none\" stroke=\"black\" points=\"139,-106.5 207,-106.5 \"/>\n",
       "<text text-anchor=\"middle\" x=\"173\" y=\"-91.3\" font-family=\"Times,serif\" font-size=\"14.00\">output:</text>\n",
       "<polyline fill=\"none\" stroke=\"black\" points=\"207,-83.5 207,-129.5 \"/>\n",
       "<text text-anchor=\"middle\" x=\"262\" y=\"-114.3\" font-family=\"Times,serif\" font-size=\"14.00\">(None, 1, 50)</text>\n",
       "<polyline fill=\"none\" stroke=\"black\" points=\"207,-106.5 317,-106.5 \"/>\n",
       "<text text-anchor=\"middle\" x=\"262\" y=\"-91.3\" font-family=\"Times,serif\" font-size=\"14.00\">(None, 50)</text>\n",
       "</g>\n",
       "<!-- 140177534803328&#45;&gt;140178338776688 -->\n",
       "<g id=\"edge3\" class=\"edge\">\n",
       "<title>140177534803328-&gt;140178338776688</title>\n",
       "<path fill=\"none\" stroke=\"black\" d=\"M163.65,-166.37C165.39,-158.06 167.41,-148.45 169.3,-139.43\"/>\n",
       "<polygon fill=\"black\" stroke=\"black\" points=\"172.73,-140.11 171.36,-129.61 165.88,-138.67 172.73,-140.11\"/>\n",
       "</g>\n",
       "<!-- 140179147355952 -->\n",
       "<g id=\"node6\" class=\"node\">\n",
       "<title>140179147355952</title>\n",
       "<polygon fill=\"none\" stroke=\"black\" points=\"344.5,-83.5 344.5,-129.5 635.5,-129.5 635.5,-83.5 344.5,-83.5\"/>\n",
       "<text text-anchor=\"middle\" x=\"401\" y=\"-114.3\" font-family=\"Times,serif\" font-size=\"14.00\">Movie_Vector</text>\n",
       "<polyline fill=\"none\" stroke=\"black\" points=\"344.5,-106.5 457.5,-106.5 \"/>\n",
       "<text text-anchor=\"middle\" x=\"401\" y=\"-91.3\" font-family=\"Times,serif\" font-size=\"14.00\">Flatten</text>\n",
       "<polyline fill=\"none\" stroke=\"black\" points=\"457.5,-83.5 457.5,-129.5 \"/>\n",
       "<text text-anchor=\"middle\" x=\"491.5\" y=\"-114.3\" font-family=\"Times,serif\" font-size=\"14.00\">input:</text>\n",
       "<polyline fill=\"none\" stroke=\"black\" points=\"457.5,-106.5 525.5,-106.5 \"/>\n",
       "<text text-anchor=\"middle\" x=\"491.5\" y=\"-91.3\" font-family=\"Times,serif\" font-size=\"14.00\">output:</text>\n",
       "<polyline fill=\"none\" stroke=\"black\" points=\"525.5,-83.5 525.5,-129.5 \"/>\n",
       "<text text-anchor=\"middle\" x=\"580.5\" y=\"-114.3\" font-family=\"Times,serif\" font-size=\"14.00\">(None, 1, 50)</text>\n",
       "<polyline fill=\"none\" stroke=\"black\" points=\"525.5,-106.5 635.5,-106.5 \"/>\n",
       "<text text-anchor=\"middle\" x=\"580.5\" y=\"-91.3\" font-family=\"Times,serif\" font-size=\"14.00\">(None, 50)</text>\n",
       "</g>\n",
       "<!-- 140179011655552&#45;&gt;140179147355952 -->\n",
       "<g id=\"edge4\" class=\"edge\">\n",
       "<title>140179011655552-&gt;140179147355952</title>\n",
       "<path fill=\"none\" stroke=\"black\" d=\"M496.54,-166.37C495.63,-158.15 494.57,-148.66 493.58,-139.73\"/>\n",
       "<polygon fill=\"black\" stroke=\"black\" points=\"497.04,-139.16 492.46,-129.61 490.08,-139.93 497.04,-139.16\"/>\n",
       "</g>\n",
       "<!-- 140179011657280 -->\n",
       "<g id=\"node7\" class=\"node\">\n",
       "<title>140179011657280</title>\n",
       "<polygon fill=\"none\" stroke=\"black\" points=\"148.5,-0.5 148.5,-46.5 507.5,-46.5 507.5,-0.5 148.5,-0.5\"/>\n",
       "<text text-anchor=\"middle\" x=\"201\" y=\"-31.3\" font-family=\"Times,serif\" font-size=\"14.00\">Dot_Product</text>\n",
       "<polyline fill=\"none\" stroke=\"black\" points=\"148.5,-23.5 253.5,-23.5 \"/>\n",
       "<text text-anchor=\"middle\" x=\"201\" y=\"-8.3\" font-family=\"Times,serif\" font-size=\"14.00\">Dot</text>\n",
       "<polyline fill=\"none\" stroke=\"black\" points=\"253.5,-0.5 253.5,-46.5 \"/>\n",
       "<text text-anchor=\"middle\" x=\"287.5\" y=\"-31.3\" font-family=\"Times,serif\" font-size=\"14.00\">input:</text>\n",
       "<polyline fill=\"none\" stroke=\"black\" points=\"253.5,-23.5 321.5,-23.5 \"/>\n",
       "<text text-anchor=\"middle\" x=\"287.5\" y=\"-8.3\" font-family=\"Times,serif\" font-size=\"14.00\">output:</text>\n",
       "<polyline fill=\"none\" stroke=\"black\" points=\"321.5,-0.5 321.5,-46.5 \"/>\n",
       "<text text-anchor=\"middle\" x=\"414.5\" y=\"-31.3\" font-family=\"Times,serif\" font-size=\"14.00\">[(None, 50), (None, 50)]</text>\n",
       "<polyline fill=\"none\" stroke=\"black\" points=\"321.5,-23.5 507.5,-23.5 \"/>\n",
       "<text text-anchor=\"middle\" x=\"414.5\" y=\"-8.3\" font-family=\"Times,serif\" font-size=\"14.00\">(None, 1)</text>\n",
       "</g>\n",
       "<!-- 140178338776688&#45;&gt;140179011657280 -->\n",
       "<g id=\"edge5\" class=\"edge\">\n",
       "<title>140178338776688-&gt;140179011657280</title>\n",
       "<path fill=\"none\" stroke=\"black\" d=\"M217.53,-83.37C236.05,-73.5 258.03,-61.79 277.48,-51.42\"/>\n",
       "<polygon fill=\"black\" stroke=\"black\" points=\"279.34,-54.4 286.52,-46.61 276.04,-48.22 279.34,-54.4\"/>\n",
       "</g>\n",
       "<!-- 140179147355952&#45;&gt;140179011657280 -->\n",
       "<g id=\"edge6\" class=\"edge\">\n",
       "<title>140179147355952-&gt;140179011657280</title>\n",
       "<path fill=\"none\" stroke=\"black\" d=\"M445.73,-83.37C425.82,-73.41 402.15,-61.58 381.28,-51.14\"/>\n",
       "<polygon fill=\"black\" stroke=\"black\" points=\"382.72,-47.95 372.21,-46.61 379.59,-54.21 382.72,-47.95\"/>\n",
       "</g>\n",
       "</g>\n",
       "</svg>"
      ],
      "text/plain": [
       "<IPython.core.display.SVG object>"
      ]
     },
     "execution_count": 114,
     "metadata": {},
     "output_type": "execute_result"
    }
   ],
   "source": [
    "model_visualization(model)"
   ]
  },
  {
   "cell_type": "markdown",
   "metadata": {},
   "source": [
    "## Train model"
   ]
  },
  {
   "cell_type": "code",
   "execution_count": 115,
   "metadata": {},
   "outputs": [
    {
     "name": "stdout",
     "output_type": "stream",
     "text": [
      "Model: \"model_17\"\n",
      "__________________________________________________________________________________________________\n",
      " Layer (type)                Output Shape                 Param #   Connected to                  \n",
      "==================================================================================================\n",
      " User_Input (InputLayer)     [(None, 1)]                  0         []                            \n",
      "                                                                                                  \n",
      " Movie_Input (InputLayer)    [(None, 1)]                  0         []                            \n",
      "                                                                                                  \n",
      " User_Embedding (Embedding)  (None, 1, 50)                47200     ['User_Input[0][0]']          \n",
      "                                                                                                  \n",
      " Movie_Embedding (Embedding  (None, 1, 50)                84150     ['Movie_Input[0][0]']         \n",
      " )                                                                                                \n",
      "                                                                                                  \n",
      " User_Vector (Flatten)       (None, 50)                   0         ['User_Embedding[0][0]']      \n",
      "                                                                                                  \n",
      " Movie_Vector (Flatten)      (None, 50)                   0         ['Movie_Embedding[0][0]']     \n",
      "                                                                                                  \n",
      " Dot_Product (Dot)           (None, 1)                    0         ['User_Vector[0][0]',         \n",
      "                                                                     'Movie_Vector[0][0]']        \n",
      "                                                                                                  \n",
      "==================================================================================================\n",
      "Total params: 131350 (513.09 KB)\n",
      "Trainable params: 131350 (513.09 KB)\n",
      "Non-trainable params: 0 (0.00 Byte)\n",
      "__________________________________________________________________________________________________\n"
     ]
    }
   ],
   "source": [
    "model.summary()\n"
   ]
  },
  {
   "cell_type": "code",
   "execution_count": 116,
   "metadata": {},
   "outputs": [],
   "source": [
    "optimizer = Adam(learning_rate = 0.0005)\n",
    "\n",
    "model.compile(loss='mean_squared_error', optimizer = optimizer)"
   ]
  },
  {
   "cell_type": "code",
   "execution_count": 117,
   "metadata": {},
   "outputs": [
    {
     "name": "stdout",
     "output_type": "stream",
     "text": [
      "Epoch 1/20\n"
     ]
    },
    {
     "name": "stdout",
     "output_type": "stream",
     "text": [
      "\n",
      "Epoch 1: val_loss improved from inf to 13.07799, saving model to ../benchmark/best_model.pt\n",
      "INFO:tensorflow:Assets written to: ../benchmark/best_model.pt/assets\n"
     ]
    },
    {
     "name": "stderr",
     "output_type": "stream",
     "text": [
      "INFO:tensorflow:Assets written to: ../benchmark/best_model.pt/assets\n"
     ]
    },
    {
     "name": "stdout",
     "output_type": "stream",
     "text": [
      "625/625 - 2s - loss: 13.6113 - val_loss: 13.0780 - 2s/epoch - 3ms/step\n",
      "Epoch 2/20\n",
      "\n",
      "Epoch 2: val_loss improved from 13.07799 to 4.07834, saving model to ../benchmark/best_model.pt\n",
      "INFO:tensorflow:Assets written to: ../benchmark/best_model.pt/assets\n"
     ]
    },
    {
     "name": "stderr",
     "output_type": "stream",
     "text": [
      "INFO:tensorflow:Assets written to: ../benchmark/best_model.pt/assets\n"
     ]
    },
    {
     "name": "stdout",
     "output_type": "stream",
     "text": [
      "625/625 - 1s - loss: 8.7141 - val_loss: 4.0783 - 1s/epoch - 2ms/step\n",
      "Epoch 3/20\n",
      "\n",
      "Epoch 3: val_loss improved from 4.07834 to 1.64646, saving model to ../benchmark/best_model.pt\n",
      "INFO:tensorflow:Assets written to: ../benchmark/best_model.pt/assets\n"
     ]
    },
    {
     "name": "stderr",
     "output_type": "stream",
     "text": [
      "INFO:tensorflow:Assets written to: ../benchmark/best_model.pt/assets\n"
     ]
    },
    {
     "name": "stdout",
     "output_type": "stream",
     "text": [
      "625/625 - 2s - loss: 2.4249 - val_loss: 1.6465 - 2s/epoch - 2ms/step\n",
      "Epoch 4/20\n",
      "\n",
      "Epoch 4: val_loss improved from 1.64646 to 1.20864, saving model to ../benchmark/best_model.pt\n",
      "INFO:tensorflow:Assets written to: ../benchmark/best_model.pt/assets\n"
     ]
    },
    {
     "name": "stderr",
     "output_type": "stream",
     "text": [
      "INFO:tensorflow:Assets written to: ../benchmark/best_model.pt/assets\n"
     ]
    },
    {
     "name": "stdout",
     "output_type": "stream",
     "text": [
      "625/625 - 2s - loss: 1.3483 - val_loss: 1.2086 - 2s/epoch - 3ms/step\n",
      "Epoch 5/20\n",
      "\n",
      "Epoch 5: val_loss improved from 1.20864 to 1.05254, saving model to ../benchmark/best_model.pt\n",
      "INFO:tensorflow:Assets written to: ../benchmark/best_model.pt/assets\n"
     ]
    },
    {
     "name": "stderr",
     "output_type": "stream",
     "text": [
      "INFO:tensorflow:Assets written to: ../benchmark/best_model.pt/assets\n"
     ]
    },
    {
     "name": "stdout",
     "output_type": "stream",
     "text": [
      "625/625 - 1s - loss: 1.0752 - val_loss: 1.0525 - 1s/epoch - 2ms/step\n",
      "Epoch 6/20\n",
      "\n",
      "Epoch 6: val_loss improved from 1.05254 to 0.97904, saving model to ../benchmark/best_model.pt\n",
      "INFO:tensorflow:Assets written to: ../benchmark/best_model.pt/assets\n"
     ]
    },
    {
     "name": "stderr",
     "output_type": "stream",
     "text": [
      "INFO:tensorflow:Assets written to: ../benchmark/best_model.pt/assets\n"
     ]
    },
    {
     "name": "stdout",
     "output_type": "stream",
     "text": [
      "625/625 - 1s - loss: 0.9660 - val_loss: 0.9790 - 1s/epoch - 2ms/step\n",
      "Epoch 7/20\n",
      "\n",
      "Epoch 7: val_loss improved from 0.97904 to 0.94201, saving model to ../benchmark/best_model.pt\n",
      "INFO:tensorflow:Assets written to: ../benchmark/best_model.pt/assets\n"
     ]
    },
    {
     "name": "stderr",
     "output_type": "stream",
     "text": [
      "INFO:tensorflow:Assets written to: ../benchmark/best_model.pt/assets\n"
     ]
    },
    {
     "name": "stdout",
     "output_type": "stream",
     "text": [
      "625/625 - 1s - loss: 0.9122 - val_loss: 0.9420 - 1s/epoch - 2ms/step\n",
      "Epoch 8/20\n",
      "\n",
      "Epoch 8: val_loss improved from 0.94201 to 0.91913, saving model to ../benchmark/best_model.pt\n",
      "INFO:tensorflow:Assets written to: ../benchmark/best_model.pt/assets\n"
     ]
    },
    {
     "name": "stderr",
     "output_type": "stream",
     "text": [
      "INFO:tensorflow:Assets written to: ../benchmark/best_model.pt/assets\n"
     ]
    },
    {
     "name": "stdout",
     "output_type": "stream",
     "text": [
      "625/625 - 1s - loss: 0.8804 - val_loss: 0.9191 - 1s/epoch - 2ms/step\n",
      "Epoch 9/20\n",
      "\n",
      "Epoch 9: val_loss improved from 0.91913 to 0.90532, saving model to ../benchmark/best_model.pt\n",
      "INFO:tensorflow:Assets written to: ../benchmark/best_model.pt/assets\n"
     ]
    },
    {
     "name": "stderr",
     "output_type": "stream",
     "text": [
      "INFO:tensorflow:Assets written to: ../benchmark/best_model.pt/assets\n"
     ]
    },
    {
     "name": "stdout",
     "output_type": "stream",
     "text": [
      "625/625 - 1s - loss: 0.8585 - val_loss: 0.9053 - 1s/epoch - 2ms/step\n",
      "Epoch 10/20\n",
      "\n",
      "Epoch 10: val_loss improved from 0.90532 to 0.89332, saving model to ../benchmark/best_model.pt\n",
      "INFO:tensorflow:Assets written to: ../benchmark/best_model.pt/assets\n"
     ]
    },
    {
     "name": "stderr",
     "output_type": "stream",
     "text": [
      "INFO:tensorflow:Assets written to: ../benchmark/best_model.pt/assets\n"
     ]
    },
    {
     "name": "stdout",
     "output_type": "stream",
     "text": [
      "625/625 - 1s - loss: 0.8413 - val_loss: 0.8933 - 1s/epoch - 2ms/step\n",
      "Epoch 11/20\n",
      "\n",
      "Epoch 11: val_loss improved from 0.89332 to 0.88370, saving model to ../benchmark/best_model.pt\n",
      "INFO:tensorflow:Assets written to: ../benchmark/best_model.pt/assets\n"
     ]
    },
    {
     "name": "stderr",
     "output_type": "stream",
     "text": [
      "INFO:tensorflow:Assets written to: ../benchmark/best_model.pt/assets\n"
     ]
    },
    {
     "name": "stdout",
     "output_type": "stream",
     "text": [
      "625/625 - 1s - loss: 0.8262 - val_loss: 0.8837 - 1s/epoch - 2ms/step\n",
      "Epoch 12/20\n",
      "\n",
      "Epoch 12: val_loss improved from 0.88370 to 0.87716, saving model to ../benchmark/best_model.pt\n",
      "INFO:tensorflow:Assets written to: ../benchmark/best_model.pt/assets\n"
     ]
    },
    {
     "name": "stderr",
     "output_type": "stream",
     "text": [
      "INFO:tensorflow:Assets written to: ../benchmark/best_model.pt/assets\n"
     ]
    },
    {
     "name": "stdout",
     "output_type": "stream",
     "text": [
      "625/625 - 1s - loss: 0.8130 - val_loss: 0.8772 - 1s/epoch - 2ms/step\n",
      "Epoch 13/20\n",
      "\n",
      "Epoch 13: val_loss improved from 0.87716 to 0.87002, saving model to ../benchmark/best_model.pt\n",
      "INFO:tensorflow:Assets written to: ../benchmark/best_model.pt/assets\n"
     ]
    },
    {
     "name": "stderr",
     "output_type": "stream",
     "text": [
      "INFO:tensorflow:Assets written to: ../benchmark/best_model.pt/assets\n"
     ]
    },
    {
     "name": "stdout",
     "output_type": "stream",
     "text": [
      "625/625 - 2s - loss: 0.8000 - val_loss: 0.8700 - 2s/epoch - 3ms/step\n",
      "Epoch 14/20\n",
      "\n",
      "Epoch 14: val_loss improved from 0.87002 to 0.86674, saving model to ../benchmark/best_model.pt\n",
      "INFO:tensorflow:Assets written to: ../benchmark/best_model.pt/assets\n"
     ]
    },
    {
     "name": "stderr",
     "output_type": "stream",
     "text": [
      "INFO:tensorflow:Assets written to: ../benchmark/best_model.pt/assets\n"
     ]
    },
    {
     "name": "stdout",
     "output_type": "stream",
     "text": [
      "625/625 - 1s - loss: 0.7881 - val_loss: 0.8667 - 1s/epoch - 2ms/step\n",
      "Epoch 15/20\n",
      "\n",
      "Epoch 15: val_loss improved from 0.86674 to 0.85985, saving model to ../benchmark/best_model.pt\n",
      "INFO:tensorflow:Assets written to: ../benchmark/best_model.pt/assets\n"
     ]
    },
    {
     "name": "stderr",
     "output_type": "stream",
     "text": [
      "INFO:tensorflow:Assets written to: ../benchmark/best_model.pt/assets\n"
     ]
    },
    {
     "name": "stdout",
     "output_type": "stream",
     "text": [
      "625/625 - 1s - loss: 0.7763 - val_loss: 0.8599 - 1s/epoch - 2ms/step\n",
      "Epoch 16/20\n",
      "\n",
      "Epoch 16: val_loss improved from 0.85985 to 0.85632, saving model to ../benchmark/best_model.pt\n",
      "INFO:tensorflow:Assets written to: ../benchmark/best_model.pt/assets\n"
     ]
    },
    {
     "name": "stderr",
     "output_type": "stream",
     "text": [
      "INFO:tensorflow:Assets written to: ../benchmark/best_model.pt/assets\n"
     ]
    },
    {
     "name": "stdout",
     "output_type": "stream",
     "text": [
      "625/625 - 1s - loss: 0.7646 - val_loss: 0.8563 - 1s/epoch - 2ms/step\n",
      "Epoch 17/20\n",
      "\n",
      "Epoch 17: val_loss improved from 0.85632 to 0.85339, saving model to ../benchmark/best_model.pt\n",
      "INFO:tensorflow:Assets written to: ../benchmark/best_model.pt/assets\n"
     ]
    },
    {
     "name": "stderr",
     "output_type": "stream",
     "text": [
      "INFO:tensorflow:Assets written to: ../benchmark/best_model.pt/assets\n"
     ]
    },
    {
     "name": "stdout",
     "output_type": "stream",
     "text": [
      "625/625 - 2s - loss: 0.7534 - val_loss: 0.8534 - 2s/epoch - 2ms/step\n",
      "Epoch 18/20\n",
      "\n",
      "Epoch 18: val_loss improved from 0.85339 to 0.85003, saving model to ../benchmark/best_model.pt\n",
      "INFO:tensorflow:Assets written to: ../benchmark/best_model.pt/assets\n"
     ]
    },
    {
     "name": "stderr",
     "output_type": "stream",
     "text": [
      "INFO:tensorflow:Assets written to: ../benchmark/best_model.pt/assets\n"
     ]
    },
    {
     "name": "stdout",
     "output_type": "stream",
     "text": [
      "625/625 - 2s - loss: 0.7422 - val_loss: 0.8500 - 2s/epoch - 3ms/step\n",
      "Epoch 19/20\n",
      "\n",
      "Epoch 19: val_loss improved from 0.85003 to 0.84728, saving model to ../benchmark/best_model.pt\n",
      "INFO:tensorflow:Assets written to: ../benchmark/best_model.pt/assets\n"
     ]
    },
    {
     "name": "stderr",
     "output_type": "stream",
     "text": [
      "INFO:tensorflow:Assets written to: ../benchmark/best_model.pt/assets\n"
     ]
    },
    {
     "name": "stdout",
     "output_type": "stream",
     "text": [
      "625/625 - 1s - loss: 0.7307 - val_loss: 0.8473 - 1s/epoch - 2ms/step\n",
      "Epoch 20/20\n",
      "\n",
      "Epoch 20: val_loss improved from 0.84728 to 0.84493, saving model to ../benchmark/best_model.pt\n",
      "INFO:tensorflow:Assets written to: ../benchmark/best_model.pt/assets\n"
     ]
    },
    {
     "name": "stderr",
     "output_type": "stream",
     "text": [
      "INFO:tensorflow:Assets written to: ../benchmark/best_model.pt/assets\n"
     ]
    },
    {
     "name": "stdout",
     "output_type": "stream",
     "text": [
      "625/625 - 1s - loss: 0.7186 - val_loss: 0.8449 - 1s/epoch - 2ms/step\n"
     ]
    }
   ],
   "source": [
    "\n",
    "batch_size = 128\n",
    "epochs = 20\n",
    "\n",
    "# Define the filepath for saving the best model\n",
    "filepath = '../benchmark/best_model'\n",
    "\n",
    "# Create a ModelCheckpoint callback to save the best model based on validation loss\n",
    "checkpoint = ModelCheckpoint(filepath, monitor='val_loss', verbose=1, save_best_only=True, mode='min')\n",
    "\n",
    "# Train the model with the ModelCheckpoint callback\n",
    "history = model.fit(\n",
    "    x=[x_train['user id'], x_train['movie id']],\n",
    "    y=y_train,\n",
    "    batch_size=batch_size,\n",
    "    epochs=epochs,\n",
    "    verbose=2,\n",
    "    validation_data=([x_test['user id'], x_test['movie id']], y_test),\n",
    "    callbacks=[checkpoint]  # Include the ModelCheckpoint callback\n",
    ")\n"
   ]
  },
  {
   "cell_type": "code",
   "execution_count": 119,
   "metadata": {},
   "outputs": [
    {
     "data": {
      "image/png": "[encoded data removed]",
      "text/plain": [
       "<Figure size 800x400 with 1 Axes>"
      ]
     },
     "metadata": {},
     "output_type": "display_data"
    }
   ],
   "source": [
    "# Get training and test loss histories\n",
    "training_loss = history.history['loss']\n",
    "test_loss = history.history['val_loss']\n",
    "\n",
    "# Create count of the number of epochs\n",
    "epoch_count = range(1, len(training_loss) + 1)\n",
    "\n",
    "# Visualize loss history\n",
    "plt.figure(figsize = (8,4))\n",
    "plt.plot(epoch_count, training_loss, 'r--')\n",
    "plt.plot(epoch_count, test_loss, 'b-')\n",
    "plt.legend(['Training Loss', 'Test Loss'])\n",
    "plt.xlabel('Epoch')\n",
    "plt.ylabel('Loss')\n",
    "plt.show()"
   ]
  },
  {
   "cell_type": "code",
   "execution_count": 122,
   "metadata": {},
   "outputs": [
    {
     "name": "stdout",
     "output_type": "stream",
     "text": [
      "625/625 [==============================] - 1s 944us/step - loss: 0.8449\n",
      "RMSE: 0.9192\n"
     ]
    }
   ],
   "source": [
    "import numpy as np\n",
    "score = model.evaluate([x_test['user id'], x_test['movie id']], y_test)\n",
    "\n",
    "print('RMSE: {:.4f}'.format(np.sqrt(score)))\n"
   ]
  }
 ],
 "metadata": {
  "kernelspec": {
   "display_name": "Python 3",
   "language": "python",
   "name": "python3"
  },
  "language_info": {
   "codemirror_mode": {
    "name": "ipython",
    "version": 3
   },
   "file_extension": ".py",
   "mimetype": "text/x-python",
   "name": "python",
   "nbconvert_exporter": "python",
   "pygments_lexer": "ipython3",
   "version": "3.10.12"
  }
 },
 "nbformat": 4,
 "nbformat_minor": 2
}
